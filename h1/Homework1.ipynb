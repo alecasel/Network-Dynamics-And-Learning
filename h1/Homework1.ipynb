{
 "cells": [
  {
   "cell_type": "markdown",
   "source": [
    "# Network Dynamics and Learning: Homework I\n",
    "## Alessandro Casella (S306081)\n",
    "## s306081@studenti.polito.it\n",
    "### Politecnico di Torino"
   ],
   "metadata": {
    "collapsed": false
   }
  },
  {
   "cell_type": "code",
   "execution_count": 1,
   "outputs": [],
   "source": [
    "# https://networkx.org/\n",
    "import networkx as nx\n",
    "\n",
    "# https://docs.scipy.org/doc/scipy/reference/misc.html\n",
    "import scipy.misc\n",
    "# https://docs.scipy.org/doc/scipy/tutorial/io.html\n",
    "from scipy import io\n",
    "\n",
    "import numpy as np\n",
    "\n",
    "# https://www.cvxpy.org/\n",
    "import cvxpy as cp"
   ],
   "metadata": {
    "collapsed": false
   }
  },
  {
   "cell_type": "code",
   "execution_count": null,
   "outputs": [],
   "source": [],
   "metadata": {
    "collapsed": false
   }
  }
 ],
 "metadata": {
  "kernelspec": {
   "display_name": "Python 3",
   "language": "python",
   "name": "python3"
  },
  "language_info": {
   "codemirror_mode": {
    "name": "ipython",
    "version": 2
   },
   "file_extension": ".py",
   "mimetype": "text/x-python",
   "name": "python",
   "nbconvert_exporter": "python",
   "pygments_lexer": "ipython2",
   "version": "2.7.6"
  }
 },
 "nbformat": 4,
 "nbformat_minor": 0
}
