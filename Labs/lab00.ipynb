{
 "cells": [
  {
   "cell_type": "markdown",
   "metadata": {
    "id": "0ytPsCpbfTff"
   },
   "source": [
    "### Contacts: leonardo.cianfanelli@polito.it"
   ]
  },
  {
   "cell_type": "markdown",
   "metadata": {
    "id": "o4QMnCVPfTfj"
   },
   "source": [
    "# Setting Up Your Environment"
   ]
  },
  {
   "cell_type": "markdown",
   "metadata": {
    "id": "3vwyxe7hfTfk"
   },
   "source": [
    "The first part of this notebook contains some guidelines to prepare programming environments for the upcoming labs of the \"Network Dynamics and Learning\" course. \n",
    "During our labs we will mostly work in Jupyter Notebook. \n",
    "\n",
    "(We are using Python 3)"
   ]
  },
  {
   "cell_type": "markdown",
   "metadata": {
    "id": "kbFHEGVnfTfk"
   },
   "source": [
    "### Step 1: Install Jupyter Notebook"
   ]
  },
  {
   "cell_type": "markdown",
   "metadata": {
    "id": "AD0t5ieRfTfl"
   },
   "source": [
    "I suggest you to install free [Anaconda](https://docs.anaconda.com/anaconda/install/) Python distribution which already includes all necessary Python packages and modules - NumPy, SciPy, Matplotlib and **NetworkX**. Simply download appropriate installer for your OS and follow the proposed steps."
   ]
  },
  {
   "cell_type": "markdown",
   "metadata": {
    "id": "469rWPc8fTfl"
   },
   "source": [
    "<!-- -*- coding: utf-8 -*- -->\n",
    "# Introduction to NetworkX\n",
    "*Credits: This tutorial was created by the NetworkX Developers and modified by Leonardo Cianfanelli.*\n",
    "\n",
    "This guide can help you start working with NetworkX."
   ]
  },
  {
   "cell_type": "markdown",
   "metadata": {
    "id": "kkJeWydwfTfm"
   },
   "source": [
    "## Graph Types\n",
    "\n",
    "NetworkX provides data structures and methods for storing graphs. The choice of graph class depends on the structure of the graph you want to represent.\n"
   ]
  },
  {
   "cell_type": "markdown",
   "metadata": {
    "id": "TVqFlRJZfTfm"
   },
   "source": [
    "### Graph—Undirected graphs\n",
    "Base class for undirected graphs.\n",
    "A Graph stores nodes and edges with optional data, or attributes.\n",
    "Graphs hold undirected edges. Self loops are allowed but multiple (parallel) edges are not.\n",
    "Edges are represented as links between nodes with optional key/value attributes."
   ]
  },
  {
   "cell_type": "markdown",
   "metadata": {
    "id": "f__q_WGyfTfn"
   },
   "source": [
    "#### Creating a Graph\n",
    "\n",
    "Create an empty graph with no nodes and no edges."
   ]
  },
  {
   "cell_type": "code",
   "execution_count": 32,
   "metadata": {
    "id": "Nqabcc1QfTfo"
   },
   "outputs": [],
   "source": [
    "import networkx as nx\n",
    "G = nx.Graph()"
   ]
  },
  {
   "cell_type": "markdown",
   "metadata": {
    "id": "VHctakw0fTfp"
   },
   "source": [
    "By definition, a `Graph` is a collection of nodes (vertices) along with\n",
    "identified pairs of nodes (called edges, links, etc).  In NetworkX, nodes can\n",
    "be objects with many different types, e.g., a number, a text string, an image, another\n",
    "Graph, etc.\n",
    "\n",
    "## Nodes\n",
    "\n",
    "The graph `G` can be grown in several ways. You can add one node at a time,"
   ]
  },
  {
   "cell_type": "code",
   "execution_count": 33,
   "metadata": {
    "colab": {
     "base_uri": "https://localhost:8080/"
    },
    "id": "23E1xM-MfTfq",
    "outputId": "dba86e77-2b97-4051-bc92-7cff26a78971"
   },
   "outputs": [
    {
     "name": "stdout",
     "output_type": "stream",
     "text": [
      "[1]\n"
     ]
    }
   ],
   "source": [
    "G.add_node(1)\n",
    "print(G.nodes)"
   ]
  },
  {
   "cell_type": "markdown",
   "metadata": {
    "id": "CZRGid0zfTfq"
   },
   "source": [
    "or you can add the nodes from any container (a list, dictionary, set or the nodes from another graph)."
   ]
  },
  {
   "cell_type": "code",
   "execution_count": 34,
   "metadata": {
    "colab": {
     "base_uri": "https://localhost:8080/"
    },
    "id": "tw7p13zdfTfr",
    "outputId": "d586476f-82e4-47fe-9be0-363f278ed588"
   },
   "outputs": [
    {
     "name": "stdout",
     "output_type": "stream",
     "text": [
      "[1, 11, 12, 21, 22, 100, 101, 102, 103, 104, 105, 106, 107, 108, 109]\n"
     ]
    }
   ],
   "source": [
    "n_list = [11,12]\n",
    "n_set = set((21,22))\n",
    "\n",
    "G.add_nodes_from(n_list)\n",
    "G.add_nodes_from(n_set)\n",
    "G.add_nodes_from(range(100, 110))\n",
    "\n",
    "print(G.nodes)"
   ]
  },
  {
   "cell_type": "code",
   "execution_count": 35,
   "metadata": {
    "colab": {
     "base_uri": "https://localhost:8080/"
    },
    "id": "cdDeb2yAfTfr",
    "outputId": "724d34b8-40e8-4827-d29a-8debd3efc161"
   },
   "outputs": [
    {
     "name": "stdout",
     "output_type": "stream",
     "text": [
      "Nodes of H: [0, 1, 2, 3, 4, 5, 6, 7, 8, 9]\n",
      "Nodes of G: [1, 11, 12, 21, 22, 100, 101, 102, 103, 104, 105, 106, 107, 108, 109, 0, 2, 3, 4, 5, 6, 7, 8, 9]\n"
     ]
    }
   ],
   "source": [
    "H = nx.path_graph(10)\n",
    "print(\"Nodes of H:\", H.nodes)\n",
    "\n",
    "G.add_nodes_from(H)\n",
    "print(\"Nodes of G:\", G.nodes)"
   ]
  },
  {
   "cell_type": "markdown",
   "metadata": {
    "id": "ixGEr3PNfTfr"
   },
   "source": [
    "# What to use as nodes and edges\n",
    "Nodes can be even other graphs."
   ]
  },
  {
   "cell_type": "code",
   "execution_count": 36,
   "metadata": {
    "colab": {
     "base_uri": "https://localhost:8080/"
    },
    "id": "pENyuBkXfTfs",
    "outputId": "32ff58da-4065-4ba8-9555-84e14f7ce43f"
   },
   "outputs": [
    {
     "name": "stdout",
     "output_type": "stream",
     "text": [
      "[1, 11, 12, 21, 22, 100, 101, 102, 103, 104, 105, 106, 107, 108, 109, 0, 2, 3, 4, 5, 6, 7, 8, 9, <networkx.classes.graph.Graph object at 0x000001E9238ECBE0>]\n"
     ]
    }
   ],
   "source": [
    "G.add_node(H)\n",
    "print(G.nodes)\n",
    "# a node is a graph object"
   ]
  },
  {
   "cell_type": "markdown",
   "metadata": {
    "id": "bhuP8DxjfTfs"
   },
   "source": [
    "The graph `G` now contains `H` as a node. This flexibility is very powerful as\n",
    "it allows graphs of graphs, graphs of files, and much more.\n",
    "\n",
    "This power quite useful, but its abuse can lead to surprising behavior unless one is familiar with Python. If in doubt, consider using convert_node_labels_to_integers() to obtain a more traditional graph with integer labels."
   ]
  },
  {
   "cell_type": "code",
   "execution_count": 37,
   "metadata": {
    "colab": {
     "base_uri": "https://localhost:8080/"
    },
    "id": "LxuTyH1KfTfs",
    "outputId": "b3223397-0783-456a-f19b-d0e2cea5bbff"
   },
   "outputs": [
    {
     "name": "stdout",
     "output_type": "stream",
     "text": [
      "[0, 1, 2, 3, 4, 5, 6, 7, 8, 9, 10, 11, 12, 13, 14, 15, 16, 17, 18, 19, 20, 21, 22, 23, 24]\n"
     ]
    }
   ],
   "source": [
    "G2=nx.convert_node_labels_to_integers(G)\n",
    "\n",
    "print(G2.nodes)"
   ]
  },
  {
   "cell_type": "markdown",
   "metadata": {
    "id": "ti9p_KJKfTft"
   },
   "source": [
    "## Edges\n",
    "\n",
    "`G` can also be grown by adding one edge at a time,"
   ]
  },
  {
   "cell_type": "code",
   "execution_count": 38,
   "metadata": {
    "colab": {
     "base_uri": "https://localhost:8080/"
    },
    "id": "Doz0kdF9fTft",
    "outputId": "6f72aae7-bf73-4070-8b5f-85f91b12ce5c"
   },
   "outputs": [
    {
     "name": "stdout",
     "output_type": "stream",
     "text": [
      "[(1, 2)]\n"
     ]
    }
   ],
   "source": [
    "G.add_edge(1, 2)\n",
    "print(G.edges)"
   ]
  },
  {
   "cell_type": "markdown",
   "metadata": {
    "id": "5H1I-AdDfTft"
   },
   "source": [
    "by adding a list of edges,"
   ]
  },
  {
   "cell_type": "code",
   "execution_count": 39,
   "metadata": {
    "colab": {
     "base_uri": "https://localhost:8080/"
    },
    "id": "HLmPWfoCfTfu",
    "outputId": "baea16a2-e918-4123-898f-659001030b9d"
   },
   "outputs": [
    {
     "name": "stdout",
     "output_type": "stream",
     "text": [
      "[(1, 2), (1, 3)]\n"
     ]
    }
   ],
   "source": [
    "G.add_edges_from([(1, 2), (1, 3)])\n",
    "print(G.edges)"
   ]
  },
  {
   "cell_type": "markdown",
   "metadata": {
    "id": "DsNiKGfdfTfu"
   },
   "source": [
    "or by adding any ebunch of edges.  An *ebunch* is any iterable\n",
    "container of edge-tuples.\n",
    "For example, an instance of ebunch containing all the edges of the graph H is obtained with `H.edges`:"
   ]
  },
  {
   "cell_type": "code",
   "execution_count": 40,
   "metadata": {
    "colab": {
     "base_uri": "https://localhost:8080/"
    },
    "id": "OeW7WXgffTfu",
    "outputId": "ed731a8f-9b9a-4b50-b8d3-4a270e8aa36a"
   },
   "outputs": [
    {
     "name": "stdout",
     "output_type": "stream",
     "text": [
      "[(1, 2), (1, 3), (1, 0), (2, 3), (3, 4), (4, 5), (5, 6), (6, 7), (7, 8), (8, 9)]\n"
     ]
    }
   ],
   "source": [
    "G.add_edges_from(H.edges)\n",
    "print(G.edges)"
   ]
  },
  {
   "cell_type": "markdown",
   "metadata": {
    "id": "czQ3W-MwfTfu"
   },
   "source": [
    "An edge-tuple can be a 2-tuple of nodes or a 3-tuple\n",
    "with 2 nodes followed by an edge attribute dictionary, e.g.,\n",
    "`(2, 3, {'weight': 3.1415})`."
   ]
  },
  {
   "cell_type": "code",
   "execution_count": 41,
   "metadata": {
    "colab": {
     "base_uri": "https://localhost:8080/"
    },
    "id": "-cwREFHZfTfv",
    "outputId": "fd324e9e-7105-4a15-b158-15b4ca0682b2"
   },
   "outputs": [
    {
     "name": "stdout",
     "output_type": "stream",
     "text": [
      "[(1, 2), (1, 3), (1, 0), (1, 5), (1, 6), (2, 3), (3, 4), (4, 5), (5, 6), (6, 7), (7, 8), (8, 9)]\n"
     ]
    }
   ],
   "source": [
    "edges_weighted = [(1 ,5, {'attribute': 2}), (1, 6)];\n",
    "G.add_edges_from(edges_weighted)\n",
    "print(G.edges)"
   ]
  },
  {
   "cell_type": "markdown",
   "metadata": {
    "id": "PEDwpp1QfTfv"
   },
   "source": [
    "If some edges connect nodes not yet in the graph, the nodes are added automatically. There are no errors when adding nodes or edges that already exist.\n"
   ]
  },
  {
   "cell_type": "markdown",
   "metadata": {
    "id": "swd6dOAofTfv"
   },
   "source": [
    "For example, after removing all nodes and edges, we add an edge without adding nodes, but the nodes are still in the graph."
   ]
  },
  {
   "cell_type": "code",
   "execution_count": 42,
   "metadata": {
    "colab": {
     "base_uri": "https://localhost:8080/"
    },
    "id": "lRWGT11MfTfv",
    "outputId": "2bbd80dc-3398-464a-b1b3-dec40dbaebdc"
   },
   "outputs": [
    {
     "name": "stdout",
     "output_type": "stream",
     "text": [
      "[1, 2, 3]\n"
     ]
    }
   ],
   "source": [
    "G.clear()\n",
    "G.add_edges_from([(1, 2), (1, 3)])\n",
    "print(G.nodes)"
   ]
  },
  {
   "cell_type": "markdown",
   "metadata": {
    "id": "7gRx843CfTfw"
   },
   "source": [
    "We now add new nodes/edges and NetworkX quietly ignores any that are already present."
   ]
  },
  {
   "cell_type": "code",
   "execution_count": 43,
   "metadata": {
    "colab": {
     "base_uri": "https://localhost:8080/"
    },
    "id": "4H3ZqYWQfTfw",
    "outputId": "794028b3-7475-4b7a-ffb8-cda2a1cde5a3"
   },
   "outputs": [
    {
     "name": "stdout",
     "output_type": "stream",
     "text": [
      "[(1, 2), (1, 3)]\n"
     ]
    }
   ],
   "source": [
    "G.add_node(1)\n",
    "G.add_edge(1, 2)\n",
    "print(G.edges)"
   ]
  },
  {
   "cell_type": "markdown",
   "metadata": {
    "id": "Wdr0qJjwfTfw"
   },
   "source": [
    "At this stage the graph `G` consists of 3 nodes and 2 edges, as can be seen by:"
   ]
  },
  {
   "cell_type": "code",
   "execution_count": 44,
   "metadata": {
    "colab": {
     "base_uri": "https://localhost:8080/"
    },
    "id": "129Qd4K8fTfw",
    "outputId": "b74c23e9-abec-4776-c48f-fc11509bf3e2"
   },
   "outputs": [
    {
     "name": "stdout",
     "output_type": "stream",
     "text": [
      "Number of nodes: 3\n",
      "Number of edges: 2\n"
     ]
    }
   ],
   "source": [
    "print(\"Number of nodes:\", G.number_of_nodes())\n",
    "print(\"Number of edges:\", G.number_of_edges())"
   ]
  },
  {
   "cell_type": "markdown",
   "metadata": {
    "id": "D4MWaxpXfTfw"
   },
   "source": [
    "# Examining elements of a graph\n",
    "\n",
    "\n",
    "We can examine the nodes and edges. Four basic graph properties facilitate\n",
    "reporting: `G.nodes`, `G.edges`, `G.adj` and `G.degree`.  These\n",
    "are views of the nodes, edges, neighbors (adjacencies), and degrees\n",
    "of nodes in a graph. They offer a continually updated read-only view into\n",
    "the graph structure.\n",
    "\n",
    "They are also dict-like in that you can look up node\n",
    "and edge data attributes via the views and iterate with data attributes\n",
    "using methods `.items()`, `.data('attribute')`.\n",
    "\n",
    "\n",
    "If you want a specific container type instead of a view, you can specify one.\n",
    "Here we use lists, though sets, dicts, tuples and other containers may be\n",
    "better in other contexts."
   ]
  },
  {
   "cell_type": "code",
   "execution_count": 45,
   "metadata": {
    "scrolled": true,
    "colab": {
     "base_uri": "https://localhost:8080/"
    },
    "id": "pu7-6zZ1fTfx",
    "outputId": "0ccb36e2-6ecb-4df5-8414-0d01d3227202"
   },
   "outputs": [
    {
     "name": "stdout",
     "output_type": "stream",
     "text": [
      "List of nodes: [1, 2, 3]\n",
      "List of edges: [(1, 2), (1, 3)]\n",
      "List of neighbors of node 1: [2, 3]\n",
      "Degree of node 1: 2\n"
     ]
    }
   ],
   "source": [
    "print(\"List of nodes:\", list(G.nodes))\n",
    "print(\"List of edges:\", list(G.edges))\n",
    "print(\"List of neighbors of node 1:\", list(G.adj[1])) # or list(G.neighbors(1))\n",
    "print(\"Degree of node 1:\", G.degree[1])  # the number of edges incident to 1"
   ]
  },
  {
   "cell_type": "markdown",
   "metadata": {
    "id": "PR0Zid1JfTfx"
   },
   "source": [
    "# Removing elements from a graph\n",
    "\n",
    "One can remove nodes and edges from the graph in a similar fashion to adding.\n",
    "Use methods\n",
    "`Graph.remove_node()`,\n",
    "`Graph.remove_nodes_from()`,\n",
    "`Graph.remove_edge()`\n",
    "and\n",
    "`Graph.remove_edges_from()`, e.g."
   ]
  },
  {
   "cell_type": "code",
   "execution_count": 46,
   "metadata": {
    "colab": {
     "base_uri": "https://localhost:8080/"
    },
    "id": "RNPH2fDffTfx",
    "outputId": "94196173-1a36-40fa-a4f2-1c49e3aab36f"
   },
   "outputs": [
    {
     "name": "stdout",
     "output_type": "stream",
     "text": [
      "Nodes of G: [1, 3]\n"
     ]
    }
   ],
   "source": [
    "G.remove_node(2)\n",
    "print(\"Nodes of G:\", G.nodes)"
   ]
  },
  {
   "cell_type": "markdown",
   "metadata": {
    "id": "jxZSCIzBfTfx"
   },
   "source": [
    "If you remove elements that are not in the graph from a container, NetworkX does not give an error."
   ]
  },
  {
   "cell_type": "code",
   "execution_count": 47,
   "metadata": {
    "id": "JR01FhnwfTfx"
   },
   "outputs": [],
   "source": [
    "G.remove_nodes_from([4,5])"
   ]
  },
  {
   "cell_type": "markdown",
   "metadata": {
    "id": "5o1EpyFUfTfy"
   },
   "source": [
    "If you instead remove single elements that are not in the graph, NetworkX does give an error."
   ]
  },
  {
   "cell_type": "markdown",
   "metadata": {
    "id": "QPc663wOfTfy"
   },
   "source": [
    "\n",
    "# Accessing edges and neighbors\n"
   ]
  },
  {
   "cell_type": "markdown",
   "metadata": {
    "id": "QBRHgHhefTfy"
   },
   "source": [
    "You can get/set attributes of an edge using subscript notation\n",
    "if the edge already exists."
   ]
  },
  {
   "cell_type": "code",
   "execution_count": 48,
   "metadata": {
    "colab": {
     "base_uri": "https://localhost:8080/"
    },
    "id": "_u_EcR5lfTfy",
    "outputId": "20597b92-5326-48b5-b3be-63c3be89a296"
   },
   "outputs": [
    {
     "name": "stdout",
     "output_type": "stream",
     "text": [
      "Edges with attributes: {(1, 3): {'color': 'blue'}, (1, 2): {'color': 'red'}}\n"
     ]
    }
   ],
   "source": [
    "G = nx.Graph()\n",
    "G.add_edges_from([(1,3),(1,2)])\n",
    "G[1][3]['color'] = \"blue\"\n",
    "G.edges[(1, 2)]['color'] = \"red\"\n",
    "print(\"Edges with attributes:\", dict(G.edges))"
   ]
  },
  {
   "cell_type": "markdown",
   "metadata": {
    "id": "hEc1kS4XfTfy"
   },
   "source": [
    "You can add weighted edges.\n",
    "\n",
    "Fast examination of all (node, adjacency) pairs is achieved using\n",
    "`G.adjacency()`, or `G.adj.items()`.\n",
    "Note that for undirected graphs, adjacency iteration sees each edge twice."
   ]
  },
  {
   "cell_type": "code",
   "execution_count": 49,
   "metadata": {
    "colab": {
     "base_uri": "https://localhost:8080/"
    },
    "id": "a7OoFJE6fTfy",
    "outputId": "641c9b7c-f74b-48dc-c35b-15425690cb7d"
   },
   "outputs": [
    {
     "data": {
      "text/plain": "ItemsView(AdjacencyView({1: {2: {'weight': 0.125}, 3: {'weight': 0.75}}, 2: {1: {'weight': 0.125}, 4: {'weight': 1.2}}, 3: {1: {'weight': 0.75}, 4: {'weight': 0.375}}, 4: {2: {'weight': 1.2}, 3: {'weight': 0.375}}}))"
     },
     "execution_count": 49,
     "metadata": {},
     "output_type": "execute_result"
    }
   ],
   "source": [
    "FG = nx.Graph()\n",
    "FG.add_weighted_edges_from([(1, 2, 0.125), (1, 3, 0.75), (2, 4, 1.2), (3, 4, 0.375)])\n",
    "\n",
    "FG.adj.items()"
   ]
  },
  {
   "cell_type": "markdown",
   "metadata": {
    "id": "cfmPh6i2fTfz"
   },
   "source": [
    "Here is a simple code that prints the edges (repeated twice, because the graph is undirected) with weight less than 0.5 by using `G.adj.items()`."
   ]
  },
  {
   "cell_type": "code",
   "execution_count": 50,
   "metadata": {
    "colab": {
     "base_uri": "https://localhost:8080/"
    },
    "id": "odoSN79yfTfz",
    "outputId": "b8a2c4da-b1ba-4c2d-af57-f3e8365d4253"
   },
   "outputs": [
    {
     "name": "stdout",
     "output_type": "stream",
     "text": [
      "(1, 2, 0.125)\n",
      "(2, 1, 0.125)\n",
      "(3, 4, 0.375)\n",
      "(4, 3, 0.375)\n"
     ]
    }
   ],
   "source": [
    "for n, nbrs in FG.adj.items():\n",
    "    for nbr, eattr in nbrs.items():\n",
    "        wt = eattr['weight']\n",
    "        if wt < 0.5: print('(%d, %d, %.3f)' % (n, nbr, wt))"
   ]
  },
  {
   "cell_type": "markdown",
   "metadata": {
    "id": "FDsYi8LQfTfz"
   },
   "source": [
    "Convenient access to all edges is achieved with the edges property."
   ]
  },
  {
   "cell_type": "code",
   "execution_count": 51,
   "metadata": {
    "colab": {
     "base_uri": "https://localhost:8080/"
    },
    "id": "SSRGlws_fTfz",
    "outputId": "48e44829-28c2-4e62-c0a6-45476b5dd128"
   },
   "outputs": [
    {
     "data": {
      "text/plain": "EdgeDataView([(1, 2, 0.125), (1, 3, 0.75), (2, 4, 1.2), (3, 4, 0.375)])"
     },
     "execution_count": 51,
     "metadata": {},
     "output_type": "execute_result"
    }
   ],
   "source": [
    "FG.edges.data('weight')"
   ]
  },
  {
   "cell_type": "code",
   "execution_count": 52,
   "metadata": {
    "colab": {
     "base_uri": "https://localhost:8080/"
    },
    "id": "66YpkaBtfTfz",
    "outputId": "d202a59b-8499-46ef-e296-8dd86824acc9"
   },
   "outputs": [
    {
     "name": "stdout",
     "output_type": "stream",
     "text": [
      "(1, 2, 0.125)\n",
      "(3, 4, 0.375)\n"
     ]
    }
   ],
   "source": [
    "for (u, v, wt) in FG.edges.data('weight'):\n",
    "    if wt < 0.5: \n",
    "        print('(%d, %d, %.3f)' % (u, v, wt))"
   ]
  },
  {
   "cell_type": "markdown",
   "metadata": {
    "id": "-MGlLtGlfTfz"
   },
   "source": [
    "# Directed graphs\n",
    "\n",
    "The `DiGraph` class provides additional properties specific to\n",
    "directed edges, e.g.,\n",
    "`DiGraph.out_edges()`, `DiGraph.in_degree()`,\n",
    "`DiGraph.predecessors()`, `DiGraph.successors()` etc.\n",
    "To allow algorithms to work with both classes easily, the directed versions of\n",
    "`neighbors()` is equivalent to `successors()` while `degree` reports\n",
    "the sum of `in_degree` and `out_degree` even though that may feel\n",
    "inconsistent at times."
   ]
  },
  {
   "cell_type": "code",
   "execution_count": 53,
   "metadata": {
    "colab": {
     "base_uri": "https://localhost:8080/"
    },
    "id": "kx0P3Vf6fTf0",
    "outputId": "e5c977c7-8314-43c7-c8ea-8e4976012930"
   },
   "outputs": [
    {
     "name": "stdout",
     "output_type": "stream",
     "text": [
      "Out degree of node 1: 0.5\n",
      "Sum of in-degree and out-degree of node 1: 1.25\n",
      "Successors of node 1: [2]\n",
      "All neighbors of node 1: [2]\n"
     ]
    }
   ],
   "source": [
    "DG = nx.DiGraph()\n",
    "DG.add_weighted_edges_from([(1, 2, 0.5), (3, 1, 0.75)])\n",
    "# argument weight specifies which edge attribute to be used as weight in computing the degree (edges may have other attributes)\n",
    "print(\"Out degree of node 1:\",DG.out_degree(1, weight='weight')) \n",
    "print(\"Sum of in-degree and out-degree of node 1:\", DG.degree(1, weight='weight'))\n",
    "print(\"Successors of node 1:\", list(DG.successors(1)))\n",
    "print(\"All neighbors of node 1:\", list(DG.neighbors(1)))"
   ]
  },
  {
   "cell_type": "markdown",
   "metadata": {
    "id": "OTrX4bsMfTf0"
   },
   "source": [
    "Some algorithms work only for directed graphs and others are not well\n",
    "defined for directed graphs. If you want to treat\n",
    "a directed graph as undirected for some measurement you should probably\n",
    "convert it using `Graph.to_undirected()` or with"
   ]
  },
  {
   "cell_type": "code",
   "execution_count": 54,
   "metadata": {
    "id": "pZl7EUONfTf0"
   },
   "outputs": [],
   "source": [
    "H = nx.Graph(DG)  # convert G to undirected graph"
   ]
  },
  {
   "cell_type": "markdown",
   "metadata": {
    "id": "7iWfJYo6fTf0"
   },
   "source": [
    "# Multigraphs\n",
    "\n",
    "NetworkX provides classes for graphs which allow multiple edges\n",
    "between any pair of nodes.  The `MultiGraph` and\n",
    "`MultiDiGraph`\n",
    "classes allow you to add the same edge twice, possibly with different\n",
    "edge data (multigraph will be introduced more formally in the course in the next weeks).  This can be powerful for some applications, but many\n",
    "algorithms are not well defined on multigraphs.\n",
    "\n",
    "In some cases results are well defined,\n",
    "e.g., `MultiGraph.degree()`.  "
   ]
  },
  {
   "cell_type": "code",
   "execution_count": 55,
   "metadata": {
    "colab": {
     "base_uri": "https://localhost:8080/"
    },
    "id": "6L5iay6FfTf0",
    "outputId": "0dbad9a9-6b35-4cc9-f430-9a8890781bf7"
   },
   "outputs": [
    {
     "name": "stdout",
     "output_type": "stream",
     "text": [
      "All nodes with their degree (without weights): {1: 2, 2: 3, 3: 1}\n",
      "All nodes with their degree (with weights): {1: 1.25, 2: 1.75, 3: 0.5}\n"
     ]
    }
   ],
   "source": [
    "MG = nx.MultiGraph()\n",
    "MG.add_weighted_edges_from([(1, 2, 0.5), (1, 2, 0.75), (2, 3, 0.5)])\n",
    "\n",
    "print(\"All nodes with their degree (without weights):\", dict(MG.degree()))\n",
    "print(\"All nodes with their degree (with weights):\", dict(MG.degree(weight='weight')))"
   ]
  },
  {
   "cell_type": "markdown",
   "metadata": {
    "id": "12IMoD2_fTf0"
   },
   "source": [
    "Otherwise you should convert to a standard graph in a way that makes the measurement\n",
    "well defined."
   ]
  },
  {
   "cell_type": "code",
   "execution_count": 56,
   "metadata": {
    "colab": {
     "base_uri": "https://localhost:8080/"
    },
    "id": "YLWIt9B-fTf1",
    "outputId": "48cd3ace-5b3a-4900-a321-ab168169d8c7"
   },
   "outputs": [
    {
     "name": "stdout",
     "output_type": "stream",
     "text": [
      "[1, 2, 3] \n",
      "\n",
      "All nodes with their degree (with weights): {1: 1.25, 2: 1.75, 3: 0.5}\n"
     ]
    }
   ],
   "source": [
    "# Example: to compute the shortest path in a Multigraph, we construct a standard graph \n",
    "# where multiple links are replaced by a single link\n",
    "\n",
    "# create weighted graph from MG\n",
    "G = nx.Graph()\n",
    "for u,v,attr in MG.edges(data=True):\n",
    "    w = attr['weight']\n",
    "    if G.has_edge(u,v):\n",
    "        G[u][v]['weight'] += w\n",
    "    else:\n",
    "        G.add_edge(u, v, weight=w)\n",
    "\n",
    "print(nx.shortest_path(G, 1, 3), \"\\n\")\n",
    "print(\"All nodes with their degree (with weights):\", dict(G.degree(weight='weight')))"
   ]
  },
  {
   "cell_type": "markdown",
   "metadata": {
    "id": "tBUaHqiKfTf1"
   },
   "source": [
    "# Graph generators and graph operations\n",
    "\n",
    "In addition to constructing graphs node-by-node or edge-by-edge, they\n",
    "can also be generated by\n",
    "\n",
    "1. Applying classic graph operations (see https://networkx.org/documentation/stable/reference/index.html for more details), such as:\n",
    "\n",
    "   ```\n",
    "   subgraph(G, nbunch)      - induced subgraph view of G on nodes in nbunch\n",
    "   union(G1,G2)             - graph union\n",
    "   disjoint_union(G1,G2)    - graph union assuming all nodes are different\n",
    "   cartesian_product(G1,G2) - return Cartesian product graph\n",
    "   compose(G1,G2)           - combine graphs identifying nodes common to both\n",
    "   to_undirected(G)         - return an undirected representation of G\n",
    "   to_directed(G)           - return a directed representation of G\n",
    "   ```\n",
    "\n",
    "1. Using a call to one of the classic small graphs, e.g.,"
   ]
  },
  {
   "cell_type": "code",
   "execution_count": 57,
   "metadata": {
    "id": "qLQAuEXKfTf1"
   },
   "outputs": [],
   "source": [
    "petersen = nx.petersen_graph()\n",
    "tutte = nx.tutte_graph()\n",
    "maze = nx.sedgewick_maze_graph()\n",
    "tet = nx.tetrahedral_graph()"
   ]
  },
  {
   "cell_type": "markdown",
   "metadata": {
    "id": "iLvIQHHAfTf1"
   },
   "source": [
    "3. Using a (constructive) generator for a classic graph, e.g.\n",
    "\n",
    "    - complete graph `K_n`: simple (i.e., undirected, unweighted) graph consisting of `n` nodes each connected to every other node;\n",
    "    \n",
    "    - complete bipartite graph `K_n_m`: simple graph consisting of two disjoint set of nodes with order `m` and `n`, where two           nodes are connected each other if and only if they are not in the same set;\n",
    "    \n",
    "    - barbell graph `B_n`: two complete graphs with order `n`, connected by an edge.\n"
   ]
  },
  {
   "cell_type": "code",
   "execution_count": 58,
   "metadata": {
    "id": "IE26z_L8fTf1"
   },
   "outputs": [],
   "source": [
    "K_4 = nx.complete_graph(4)\n",
    "K_2_3 = nx.complete_bipartite_graph(2, 3)\n",
    "B_3 = nx.barbell_graph(3, 0)"
   ]
  },
  {
   "cell_type": "code",
   "execution_count": 59,
   "metadata": {
    "colab": {
     "base_uri": "https://localhost:8080/"
    },
    "id": "nFPSrn4ffTf2",
    "outputId": "207e5805-5919-48fb-ac00-b1133256babe"
   },
   "outputs": [
    {
     "name": "stdout",
     "output_type": "stream",
     "text": [
      "Edges of K_4: [(0, 1), (0, 2), (0, 3), (1, 2), (1, 3), (2, 3)]\n",
      "Edges of K_2_3: [(0, 2), (0, 3), (0, 4), (1, 2), (1, 3), (1, 4)]\n",
      "Edges of B_3: [(0, 1), (0, 2), (1, 2), (2, 3), (3, 4), (3, 5), (4, 5)]\n"
     ]
    }
   ],
   "source": [
    "print(\"Edges of K_4:\", K_4.edges)\n",
    "print(\"Edges of K_2_3:\", K_2_3.edges)\n",
    "print(\"Edges of B_3:\", B_3.edges)"
   ]
  },
  {
   "cell_type": "markdown",
   "metadata": {
    "id": "Qv_AzZdifTf2"
   },
   "source": [
    "4. Using a stochastic graph generator, e.g.,"
   ]
  },
  {
   "cell_type": "code",
   "execution_count": 60,
   "metadata": {
    "id": "k-FlAULwfTf2"
   },
   "outputs": [],
   "source": [
    "er = nx.erdos_renyi_graph(100, 0.15)\n",
    "ws = nx.watts_strogatz_graph(30, 3, 0.1)\n",
    "ba = nx.barabasi_albert_graph(100, 5)"
   ]
  },
  {
   "cell_type": "markdown",
   "metadata": {
    "id": "1g4dfwukfTf2"
   },
   "source": [
    "# Drawing graphs\n",
    "\n",
    "NetworkX is not primarily a graph drawing package but basic drawing with\n",
    "Matplotlib is included.  \n",
    "\n",
    "First import Matplotlib’s plot interface "
   ]
  },
  {
   "cell_type": "code",
   "execution_count": 61,
   "metadata": {
    "id": "eEXYRqdHfTf2"
   },
   "outputs": [],
   "source": [
    "import matplotlib.pyplot as plt\n",
    "%matplotlib inline"
   ]
  },
  {
   "cell_type": "markdown",
   "metadata": {
    "id": "CkqdkgVtfTf2"
   },
   "source": [
    "As an example, draw Petersen graph.\n",
    "\n",
    "The function `subplot(nmp)` divides the current figure into an n-by-m grid and creates axes in the position specified by p. Python numbers subplot positions by row. The first subplot is the first column of the first row, the second subplot is the second column of the first row, and so on."
   ]
  },
  {
   "cell_type": "code",
   "execution_count": 62,
   "metadata": {
    "colab": {
     "base_uri": "https://localhost:8080/",
     "height": 248
    },
    "id": "pVwUDsa7fTf3",
    "outputId": "c37406a5-7cda-4216-d1eb-0f02f0fc842a"
   },
   "outputs": [
    {
     "data": {
      "text/plain": "<Figure size 640x480 with 2 Axes>",
      "image/png": "[encoded data removed]"
     },
     "metadata": {},
     "output_type": "display_data"
    }
   ],
   "source": [
    "G = nx.petersen_graph()\n",
    "plt.subplot(121)\n",
    "nx.draw(G, with_labels=True, font_weight='bold')\n",
    "plt.subplot(122)\n",
    "nx.draw_shell(G, nlist=[range(5, 10), range(5)], with_labels=True, font_weight='bold')"
   ]
  },
  {
   "cell_type": "markdown",
   "metadata": {
    "id": "T4NyB5sRfTf3"
   },
   "source": [
    "You can specify drawing options separately using an `options` dictionary.\n",
    "You can find additional options via `draw_networkx()` and\n",
    "layouts via `layout`. For example, the shell layout `draw_shell()` places different gropus of nodes in concentric circles (\"shells\")."
   ]
  },
  {
   "cell_type": "code",
   "execution_count": 63,
   "metadata": {
    "colab": {
     "base_uri": "https://localhost:8080/",
     "height": 248
    },
    "id": "fLuq9H8jfTf3",
    "outputId": "af1713fb-c4e4-4d04-93f5-3691ba12d2b3"
   },
   "outputs": [
    {
     "data": {
      "text/plain": "<Figure size 640x480 with 4 Axes>",
      "image/png": "[encoded data removed]"
     },
     "metadata": {},
     "output_type": "display_data"
    }
   ],
   "source": [
    "options = {\n",
    "    'node_color': 'black',\n",
    "    'node_size': 100,\n",
    "    'width': 3, # width of the edges\n",
    "}\n",
    "plt.subplot(221)\n",
    "nx.draw_random(G, **options)\n",
    "plt.subplot(222)\n",
    "nx.draw_circular(G, **options)\n",
    "plt.subplot(223)\n",
    "nx.draw_spectral(G, **options)\n",
    "plt.subplot(224)\n",
    "nx.draw_shell(G, nlist=[range(5,10), range(5)], **options)"
   ]
  },
  {
   "cell_type": "markdown",
   "metadata": {
    "id": "eX3yD_iCfTf3"
   },
   "source": [
    "See Drawing in the NetworkX Reference for additional details."
   ]
  },
  {
   "cell_type": "markdown",
   "metadata": {
    "id": "8uiur321fTf3"
   },
   "source": [
    "# Algorithms\n",
    "NetworkX offers the implementation of a lot of network-related algorithms, which allow performing complex graph analysis in a simple way.\n",
    "As an overview we present the following functions contained in the modules `networkx.algorithms.components` and `networkx.algorithms.cycles`."
   ]
  },
  {
   "cell_type": "markdown",
   "metadata": {
    "id": "ftb2cGRRfTf3"
   },
   "source": [
    "## Strong connectivity\n",
    "A directed graph is strongly connected if and only if every node in the graph is reachable from every other node, i.e., if from every ordered pair of nodes there exists a path from the first node to the second one.\n",
    "`networkx.algorithms.components.is_strongly_connected` test directed graph for strong connectivity."
   ]
  },
  {
   "cell_type": "code",
   "execution_count": 64,
   "metadata": {
    "colab": {
     "base_uri": "https://localhost:8080/",
     "height": 319
    },
    "id": "MWPPhfI9fTf4",
    "outputId": "f77d8be9-3232-456a-f397-ce26b2e162b5"
   },
   "outputs": [
    {
     "data": {
      "text/plain": "<Figure size 640x480 with 1 Axes>",
      "image/png": "[encoded data removed]"
     },
     "metadata": {},
     "output_type": "display_data"
    }
   ],
   "source": [
    "DG = nx.DiGraph()\n",
    "DG.add_edges_from([(1,2),(2,3),(3,1),(4,5),(5,6),(6,7),(7,4),(4,1)])\n",
    "nx.draw(DG,with_labels=True)"
   ]
  },
  {
   "cell_type": "markdown",
   "metadata": {
    "id": "Bl-_VcSEfTf4"
   },
   "source": [
    "**Question**: is this graph strongly connected?"
   ]
  },
  {
   "cell_type": "code",
   "execution_count": 65,
   "metadata": {
    "colab": {
     "base_uri": "https://localhost:8080/"
    },
    "id": "OHSZ0NhZfTf4",
    "outputId": "762f8c4d-c8a7-460b-f30c-905e6a678e8b"
   },
   "outputs": [
    {
     "name": "stdout",
     "output_type": "stream",
     "text": [
      "Is strongly connected: False\n"
     ]
    }
   ],
   "source": [
    "print(\"Is strongly connected:\", nx.algorithms.components.is_strongly_connected(DG))"
   ]
  },
  {
   "cell_type": "markdown",
   "metadata": {
    "id": "q_Nwdd_5fTf4"
   },
   "source": [
    "The analysis of the connectedness of a graph can be further refined by considering the so called `connected components` of $G$, that are the maximal subsets $V_1, V_2, ..., V_k$ of the node set $V$ such that, for every pair of nodes $i$ and $j$ in the\n",
    "same component $V_h$, there exists a path from $i$ to $j$.\n",
    "\n",
    "**Question**: how many connected components does this graph have?"
   ]
  },
  {
   "cell_type": "code",
   "execution_count": 66,
   "metadata": {
    "colab": {
     "base_uri": "https://localhost:8080/"
    },
    "id": "ZyTHF21xfTf4",
    "outputId": "83cc3d6c-04c4-4e24-c565-f25e3d100a4a"
   },
   "outputs": [
    {
     "name": "stdout",
     "output_type": "stream",
     "text": [
      "Number of connected components: 2\n"
     ]
    }
   ],
   "source": [
    "print(\"Number of connected components:\", nx.algorithms.components.number_strongly_connected_components(DG))"
   ]
  },
  {
   "cell_type": "markdown",
   "metadata": {
    "id": "k9RkXzObfTf4"
   },
   "source": [
    "We can construct the condensation graph, which is the graph with each of the strongly connected components contracted into a single node. Edges in the condensation graph represents edges between nodes of different connected components."
   ]
  },
  {
   "cell_type": "code",
   "execution_count": 67,
   "metadata": {
    "colab": {
     "base_uri": "https://localhost:8080/",
     "height": 248
    },
    "id": "f61ApCz9fTf5",
    "outputId": "432efe1c-4e4e-402b-8eb7-684758937ec4"
   },
   "outputs": [
    {
     "data": {
      "text/plain": "<Figure size 640x480 with 2 Axes>",
      "image/png": "[encoded data removed]"
     },
     "metadata": {},
     "output_type": "display_data"
    }
   ],
   "source": [
    "# CG condensation graph of DG\n",
    "CG = nx.algorithms.components.condensation(DG)\n",
    "plt.subplot(121)\n",
    "nx.draw(DG,with_labels=True)\n",
    "plt.subplot(122)\n",
    "nx.draw(CG, with_labels=True)"
   ]
  },
  {
   "cell_type": "markdown",
   "metadata": {
    "id": "ydT3j5mmfTf5"
   },
   "source": [
    "**Question**: can a condensation graph with more than one node be strongly connected?"
   ]
  },
  {
   "cell_type": "markdown",
   "metadata": {
    "id": "AroWhLbkfTf5"
   },
   "source": [
    "$CG$ is the condensation graph of $DG$. The node labels are integers corresponding to the index of the component in the \n",
    "list of strongly connected components of $DG$.\n",
    "\n",
    "Each node in $CG$ also has a node attribute `members` with the set of original nodes in $DG$ that form \n",
    "the strongly connected component that the node in $CG$ represents.\n",
    "\n",
    "We now map nodes from $CG$ into set of nodes of $DG$"
   ]
  },
  {
   "cell_type": "code",
   "execution_count": 68,
   "metadata": {
    "colab": {
     "base_uri": "https://localhost:8080/"
    },
    "id": "S9hXYpbCfTf5",
    "outputId": "cc3f3a9f-a7bb-4a08-a13e-8b8526e1d634"
   },
   "outputs": [
    {
     "data": {
      "text/plain": "{0: {'members': {1, 2, 3}}, 1: {'members': {4, 5, 6, 7}}}"
     },
     "execution_count": 68,
     "metadata": {},
     "output_type": "execute_result"
    }
   ],
   "source": [
    "dict(CG.nodes)"
   ]
  },
  {
   "cell_type": "markdown",
   "metadata": {
    "id": "cYt01-JWfTf5"
   },
   "source": [
    "$CG$ has a graph attribute named `mapping` with a dictionary mapping the original nodes of $DG$ to the nodes in $CG$ to which \n",
    "they belong. "
   ]
  },
  {
   "cell_type": "code",
   "execution_count": 69,
   "metadata": {
    "colab": {
     "base_uri": "https://localhost:8080/"
    },
    "id": "wQ6XrIYsfTf5",
    "outputId": "84214547-d9a6-4f37-d185-01b66a0b67e0"
   },
   "outputs": [
    {
     "name": "stdout",
     "output_type": "stream",
     "text": [
      "{1: 0, 2: 0, 3: 0, 4: 1, 5: 1, 6: 1, 7: 1}\n"
     ]
    }
   ],
   "source": [
    "mapping = CG.graph['mapping']\n",
    "print(mapping)"
   ]
  },
  {
   "cell_type": "markdown",
   "metadata": {
    "id": "jZxgJ83sfTf6"
   },
   "source": [
    "**Note**: all previous functions related to strong connectivity can only be applied to directed graphs. Counterparts are provided for undirected graphs."
   ]
  },
  {
   "cell_type": "markdown",
   "metadata": {
    "id": "28dQXcjgfTf6"
   },
   "source": [
    "## Sinks\n",
    "**Sink**: node that does not have out-neighbors.\n",
    "\n",
    "In networkxX, an attracting component in a directed graph $DG$ is a strongly connected component with the property that a random walker on the graph will never leave the component, once it enters the component. This is equivalent to requiring that the strongly connected component is a trapping set.\n",
    "Attracting components in $DG$ consitute sinks of its condensation graph $CG$.\n",
    "\n",
    "`networkx.algorithms.components.number_attracting_components` returns the number of attracting components in $DG$.\n"
   ]
  },
  {
   "cell_type": "code",
   "execution_count": 70,
   "metadata": {
    "colab": {
     "base_uri": "https://localhost:8080/"
    },
    "id": "ZvZ-BiizfTf6",
    "outputId": "e85bd473-0492-4248-ba9d-ab8cd1422dce"
   },
   "outputs": [
    {
     "name": "stdout",
     "output_type": "stream",
     "text": [
      "Number of attracting components: 1\n"
     ]
    }
   ],
   "source": [
    "print(\"Number of attracting components:\", nx.algorithms.components.number_attracting_components(DG))"
   ]
  },
  {
   "cell_type": "markdown",
   "metadata": {
    "id": "L98y0St7fTf6"
   },
   "source": [
    "`networkx.algorithms.components.attracting_components` generates the attracting components of $DG$.\n",
    "You can directly list nodes of $DG$ belonging to each attracting component:"
   ]
  },
  {
   "cell_type": "code",
   "execution_count": 71,
   "metadata": {
    "colab": {
     "base_uri": "https://localhost:8080/"
    },
    "id": "0RUppiB0fTf6",
    "outputId": "de9f8810-ff02-4aff-ce58-f3406f62ed35"
   },
   "outputs": [
    {
     "name": "stdout",
     "output_type": "stream",
     "text": [
      "{1, 2, 3}\n"
     ]
    }
   ],
   "source": [
    "for c in nx.algorithms.components.attracting_components(DG):\n",
    "    print(c)"
   ]
  },
  {
   "cell_type": "markdown",
   "metadata": {
    "id": "paAtgXAnfTf6"
   },
   "source": [
    "or you can obtain the subgraphs of $DG$ induced on each attracting component and visualize them:"
   ]
  },
  {
   "cell_type": "code",
   "execution_count": 72,
   "metadata": {
    "scrolled": true,
    "colab": {
     "base_uri": "https://localhost:8080/",
     "height": 336
    },
    "id": "39EIobRSfTf6",
    "outputId": "2dce9a77-d175-4efd-e3de-0769d08da1ae"
   },
   "outputs": [
    {
     "name": "stdout",
     "output_type": "stream",
     "text": [
      "1\n"
     ]
    },
    {
     "data": {
      "text/plain": "<Figure size 640x480 with 1 Axes>",
      "image/png": "[encoded data removed]"
     },
     "metadata": {},
     "output_type": "display_data"
    }
   ],
   "source": [
    "# components = list of subgraphs induced on each attracting component of DG\n",
    "components = list(DG.subgraph(c).copy() for c in nx.algorithms.components.attracting_components(DG))\n",
    "\n",
    "# the number of attracting components is the length of the list\n",
    "print(len(components))\n",
    "\n",
    "nx.draw(components[0],with_labels=True)"
   ]
  },
  {
   "cell_type": "markdown",
   "metadata": {
    "id": "LWEUtzKmfTf7"
   },
   "source": [
    "## Cycles\n",
    "A simple cycle is a closed path where no node appears twice. Two elementary circuits are considered distinct if they are not cyclic permutations of each other.\n",
    "\n",
    "NetworkX provides cycle finding algorithms, that can be exploited to compute the periodicity of nodes and graphs.\n",
    "For example, `networkx.algorithms.cycles.simple_cycles` find simple cycles of a directed graph"
   ]
  },
  {
   "cell_type": "code",
   "execution_count": 73,
   "metadata": {
    "scrolled": true,
    "colab": {
     "base_uri": "https://localhost:8080/"
    },
    "id": "gNqdGkVAfTf7",
    "outputId": "59a8d301-be61-40b4-fe5f-eed88e94213e"
   },
   "outputs": [
    {
     "name": "stdout",
     "output_type": "stream",
     "text": [
      "Cycle: [4, 5, 6, 7] Lenght: 4\n",
      "Cycle: [1, 2, 3] Lenght: 3\n"
     ]
    }
   ],
   "source": [
    "cycles = list(nx.simple_cycles(DG))\n",
    "for cycle in cycles:\n",
    "    print(\"Cycle:\", cycle, \"Lenght:\", len(cycle))"
   ]
  },
  {
   "cell_type": "markdown",
   "metadata": {
    "id": "ZkqYY3fjfTf7"
   },
   "source": [
    "### Period of a node\n",
    "The period of a node is the Greatest Common Divisor of all cycles containing such node.\n",
    "\n",
    "#### Exercise 1\n",
    "Try to compute the period of each node in $DG$. \n",
    "\n",
    "**Hint**: exploit `networkx.algorithms.cycles.simple_cycles` and `math.gcd()`, which computes the GCD of two given numbers.\n",
    "Remember that you can compute the GCD of a list of numbers sequentially:"
   ]
  },
  {
   "cell_type": "code",
   "execution_count": 74,
   "metadata": {
    "colab": {
     "base_uri": "https://localhost:8080/"
    },
    "id": "iMWwL9j2fTf7",
    "outputId": "279360b8-d2a6-43ab-9cb0-b7ab8d25a847"
   },
   "outputs": [
    {
     "data": {
      "text/plain": "3"
     },
     "execution_count": 74,
     "metadata": {},
     "output_type": "execute_result"
    }
   ],
   "source": [
    "from math import gcd\n",
    "\n",
    "numbers = [3,9,24]\n",
    "GCD = numbers[0] # First initialize GCD with the first number of the list\n",
    "\n",
    "for n in numbers:\n",
    "    GCD = gcd(GCD,n)\n",
    "\n",
    "GCD"
   ]
  },
  {
   "cell_type": "code",
   "source": [
    "DG.nodes, DG.edges"
   ],
   "metadata": {
    "colab": {
     "base_uri": "https://localhost:8080/"
    },
    "id": "LcW52rcqf9KR",
    "outputId": "5d00c008-96a2-43f0-94f7-5b44f6518706"
   },
   "execution_count": 75,
   "outputs": [
    {
     "data": {
      "text/plain": "(NodeView((1, 2, 3, 4, 5, 6, 7)),\n OutEdgeView([(1, 2), (2, 3), (3, 1), (4, 5), (4, 1), (5, 6), (6, 7), (7, 4)]))"
     },
     "execution_count": 75,
     "metadata": {},
     "output_type": "execute_result"
    }
   ]
  },
  {
   "cell_type": "code",
   "source": [
    "all_edges = []\n",
    "\n",
    "for e in DG.edges:\n",
    "  all_edges.append(e)\n",
    "\n",
    "all_edges"
   ],
   "metadata": {
    "colab": {
     "base_uri": "https://localhost:8080/"
    },
    "id": "SgrtnHrqg9ok",
    "outputId": "3eb699be-5966-415b-d1c3-621f351ab972"
   },
   "execution_count": 76,
   "outputs": [
    {
     "data": {
      "text/plain": "[(1, 2), (2, 3), (3, 1), (4, 5), (4, 1), (5, 6), (6, 7), (7, 4)]"
     },
     "execution_count": 76,
     "metadata": {},
     "output_type": "execute_result"
    }
   ]
  },
  {
   "cell_type": "code",
   "source": [
    "G = nx.DiGraph(all_edges)"
   ],
   "metadata": {
    "id": "0NI9RJ9jigQY"
   },
   "execution_count": 77,
   "outputs": []
  },
  {
   "cell_type": "code",
   "source": [
    "circles = sorted(nx.simple_cycles(G))\n",
    "circles"
   ],
   "metadata": {
    "colab": {
     "base_uri": "https://localhost:8080/"
    },
    "id": "INCwYOSti5eE",
    "outputId": "0e07c280-54b4-4cf4-ad96-441b648f6b6a"
   },
   "execution_count": 78,
   "outputs": [
    {
     "data": {
      "text/plain": "[[1, 2, 3], [4, 5, 6, 7]]"
     },
     "execution_count": 78,
     "metadata": {},
     "output_type": "execute_result"
    }
   ]
  },
  {
   "cell_type": "code",
   "source": [
    "circles_per_node = [[c for c in circles if n in c] for n in DG.nodes]\n",
    "lengths_circles = [[len(c) for c in cpn] for cpn in circles_per_node]\n",
    "print(lengths_circles) \n",
    "print(circles_per_node[0])"
   ],
   "metadata": {
    "colab": {
     "base_uri": "https://localhost:8080/"
    },
    "id": "8FBKjpXBoi2r",
    "outputId": "7f8295d1-1576-4db9-8070-0f47432a4810"
   },
   "execution_count": 79,
   "outputs": [
    {
     "name": "stdout",
     "output_type": "stream",
     "text": [
      "[[3], [3], [3], [4], [4], [4], [4]]\n",
      "[[1, 2, 3]]\n"
     ]
    }
   ]
  },
  {
   "cell_type": "code",
   "source": [
    "GCD_global = []\n",
    "GCD_local = []\n",
    "\n",
    "for lc in lengths_circles:\n",
    "  GCD_local = lc[0]\n",
    "  for elem in lc:\n",
    "    GCD_local = gcd(elem, GCD_local)\n",
    "  GCD_global.append(GCD_local)\n",
    "\n",
    "GCD_global"
   ],
   "metadata": {
    "colab": {
     "base_uri": "https://localhost:8080/"
    },
    "id": "NfM9px8lx7Ua",
    "outputId": "0eda5d9d-8d65-4925-b72d-d00b2c8d86ed"
   },
   "execution_count": 80,
   "outputs": [
    {
     "data": {
      "text/plain": "[3, 3, 3, 4, 4, 4, 4]"
     },
     "execution_count": 80,
     "metadata": {},
     "output_type": "execute_result"
    }
   ]
  },
  {
   "cell_type": "code",
   "source": [
    "for i,n in enumerate(DG.nodes):\n",
    "  print(f\"The node {n} has period equal to {GCD_global[i]}\")"
   ],
   "metadata": {
    "colab": {
     "base_uri": "https://localhost:8080/"
    },
    "id": "lC6LNNYr3Irh",
    "outputId": "50f184cb-c7e4-427a-c00d-2e3b2f60e75b"
   },
   "execution_count": 81,
   "outputs": [
    {
     "name": "stdout",
     "output_type": "stream",
     "text": [
      "The node 1 has period equal to 3\n",
      "The node 2 has period equal to 3\n",
      "The node 3 has period equal to 3\n",
      "The node 4 has period equal to 4\n",
      "The node 5 has period equal to 4\n",
      "The node 6 has period equal to 4\n",
      "The node 7 has period equal to 4\n"
     ]
    }
   ]
  },
  {
   "cell_type": "markdown",
   "metadata": {
    "id": "d85mKjANfTf7"
   },
   "source": [
    "#### Exercise 2\n",
    "Consider the following directed graph."
   ]
  },
  {
   "cell_type": "code",
   "execution_count": 82,
   "metadata": {
    "colab": {
     "base_uri": "https://localhost:8080/",
     "height": 319
    },
    "id": "t7ShZjTkfTf7",
    "outputId": "216a995c-b495-475b-f1ae-a06b604fd801"
   },
   "outputs": [
    {
     "data": {
      "text/plain": "<Figure size 640x480 with 1 Axes>",
      "image/png": "[encoded data removed]"
     },
     "metadata": {},
     "output_type": "display_data"
    }
   ],
   "source": [
    "DG = nx.DiGraph()\n",
    "n_nodes = 10\n",
    "nx.add_cycle(DG, range(n_nodes))\n",
    "for n in range(n_nodes):\n",
    "    other = n+3\n",
    "    if other>=n_nodes:\n",
    "        other-=n_nodes\n",
    "    DG.add_edge(other,n)\n",
    "nx.draw_circular(DG, with_labels=True)\n"
   ]
  },
  {
   "cell_type": "markdown",
   "metadata": {
    "id": "vYSnDsxRfTf8"
   },
   "source": [
    "We can check that DG is strongly connected and not aperiodic"
   ]
  },
  {
   "cell_type": "code",
   "execution_count": 83,
   "metadata": {
    "colab": {
     "base_uri": "https://localhost:8080/"
    },
    "id": "Cu21ua7UfTf8",
    "outputId": "1919907c-47e5-4810-f55e-8775b146e325"
   },
   "outputs": [
    {
     "name": "stdout",
     "output_type": "stream",
     "text": [
      "Is strongly connected: True\n",
      "Is aperiodic: False\n"
     ]
    }
   ],
   "source": [
    "print(\"Is strongly connected:\",nx.is_strongly_connected(DG))\n",
    "print(\"Is aperiodic:\",nx.is_aperiodic(DG))"
   ]
  },
  {
   "cell_type": "markdown",
   "metadata": {
    "id": "8LPnobjZfTf8"
   },
   "source": [
    "In view of these facts, compute the period of the graph DG.\n",
    "\n",
    "**Hint:** Exploit the results from previous exercise and the fact that all nodes of a strongly connected graph have the same period."
   ]
  },
  {
   "cell_type": "code",
   "source": [
    "DG.nodes, DG.edges"
   ],
   "metadata": {
    "colab": {
     "base_uri": "https://localhost:8080/"
    },
    "outputId": "1fd9d536-1a7e-4133-fae0-60b905fafc35",
    "id": "O3nnGTZKUWtJ"
   },
   "execution_count": 84,
   "outputs": [
    {
     "data": {
      "text/plain": "(NodeView((0, 1, 2, 3, 4, 5, 6, 7, 8, 9)),\n OutEdgeView([(0, 1), (0, 7), (1, 2), (1, 8), (2, 3), (2, 9), (3, 4), (3, 0), (4, 5), (4, 1), (5, 6), (5, 2), (6, 7), (6, 3), (7, 8), (7, 4), (8, 9), (8, 5), (9, 0), (9, 6)]))"
     },
     "execution_count": 84,
     "metadata": {},
     "output_type": "execute_result"
    }
   ]
  },
  {
   "cell_type": "code",
   "source": [
    "all_edges = []\n",
    "\n",
    "for e in DG.edges:\n",
    "  all_edges.append(e)\n",
    "\n",
    "all_edges"
   ],
   "metadata": {
    "colab": {
     "base_uri": "https://localhost:8080/"
    },
    "outputId": "f5280cd6-da9e-4d13-9f43-d6967920c147",
    "id": "7sEWraYhUWtL"
   },
   "execution_count": 85,
   "outputs": [
    {
     "data": {
      "text/plain": "[(0, 1),\n (0, 7),\n (1, 2),\n (1, 8),\n (2, 3),\n (2, 9),\n (3, 4),\n (3, 0),\n (4, 5),\n (4, 1),\n (5, 6),\n (5, 2),\n (6, 7),\n (6, 3),\n (7, 8),\n (7, 4),\n (8, 9),\n (8, 5),\n (9, 0),\n (9, 6)]"
     },
     "execution_count": 85,
     "metadata": {},
     "output_type": "execute_result"
    }
   ]
  },
  {
   "cell_type": "code",
   "source": [
    "G = nx.DiGraph(all_edges)"
   ],
   "metadata": {
    "id": "96qZdcWkUWtM"
   },
   "execution_count": 86,
   "outputs": []
  },
  {
   "cell_type": "code",
   "source": [
    "circles = sorted(nx.simple_cycles(G))\n",
    "circles"
   ],
   "metadata": {
    "colab": {
     "base_uri": "https://localhost:8080/"
    },
    "outputId": "b3303af8-ef93-4284-c23c-be0428b5799b",
    "id": "Ma17tkvMUWtM"
   },
   "execution_count": 87,
   "outputs": [
    {
     "data": {
      "text/plain": "[[0, 1, 2, 3],\n [0, 1, 2, 3, 4, 5, 6, 7, 8, 9],\n [0, 1, 2, 9],\n [0, 1, 2, 9, 6, 3],\n [0, 1, 8, 5, 2, 3],\n [0, 1, 8, 5, 2, 9],\n [0, 1, 8, 5, 2, 9, 6, 3],\n [0, 1, 8, 5, 6, 3],\n [0, 1, 8, 9],\n [0, 1, 8, 9, 6, 3],\n [0, 1, 8, 9, 6, 7, 4, 5, 2, 3],\n [0, 7, 4, 1, 2, 3],\n [0, 7, 4, 1, 2, 9],\n [0, 7, 4, 1, 2, 9, 6, 3],\n [0, 7, 4, 1, 8, 5, 2, 3],\n [0, 7, 4, 1, 8, 5, 2, 9],\n [0, 7, 4, 1, 8, 5, 2, 9, 6, 3],\n [0, 7, 4, 1, 8, 5, 6, 3],\n [0, 7, 4, 1, 8, 9],\n [0, 7, 4, 1, 8, 9, 6, 3],\n [0, 7, 4, 5, 2, 3],\n [0, 7, 4, 5, 2, 9],\n [0, 7, 4, 5, 2, 9, 6, 3],\n [0, 7, 4, 5, 6, 3],\n [0, 7, 8, 5, 2, 3],\n [0, 7, 8, 5, 2, 9],\n [0, 7, 8, 5, 2, 9, 6, 3],\n [0, 7, 8, 5, 6, 3],\n [0, 7, 8, 5, 6, 3, 4, 1, 2, 9],\n [0, 7, 8, 9],\n [0, 7, 8, 9, 6, 3],\n [1, 2, 3, 4],\n [1, 2, 9, 6, 3, 4],\n [1, 2, 9, 6, 7, 4],\n [1, 8, 5, 2, 3, 4],\n [1, 8, 5, 2, 9, 6, 3, 4],\n [1, 8, 5, 2, 9, 6, 7, 4],\n [1, 8, 5, 6, 3, 4],\n [1, 8, 5, 6, 7, 4],\n [1, 8, 9, 6, 3, 4],\n [1, 8, 9, 6, 7, 4],\n [2, 3, 4, 5],\n [2, 9, 6, 3, 4, 5],\n [2, 9, 6, 7, 4, 5],\n [2, 9, 6, 7, 8, 5],\n [3, 4, 5, 6],\n [4, 5, 6, 7],\n [5, 6, 7, 8],\n [8, 9, 6, 7]]"
     },
     "execution_count": 87,
     "metadata": {},
     "output_type": "execute_result"
    }
   ]
  },
  {
   "cell_type": "code",
   "source": [
    "circles_per_node = [[c for c in circles if n in c] for n in DG.nodes]\n",
    "lengths_circles = [[len(c) for c in cpn] for cpn in circles_per_node]\n",
    "print(lengths_circles) \n",
    "print(circles_per_node[0])"
   ],
   "metadata": {
    "colab": {
     "base_uri": "https://localhost:8080/"
    },
    "outputId": "2ddb28b3-2024-4336-940d-2cf945bd1970",
    "id": "zTe7qmfjUWtN"
   },
   "execution_count": 88,
   "outputs": [
    {
     "name": "stdout",
     "output_type": "stream",
     "text": [
      "[[4, 10, 4, 6, 6, 6, 8, 6, 4, 6, 10, 6, 6, 8, 8, 8, 10, 8, 6, 8, 6, 6, 8, 6, 6, 6, 8, 6, 10, 4, 6], [4, 10, 4, 6, 6, 6, 8, 6, 4, 6, 10, 6, 6, 8, 8, 8, 10, 8, 6, 8, 10, 4, 6, 6, 6, 8, 8, 6, 6, 6, 6], [4, 10, 4, 6, 6, 6, 8, 10, 6, 6, 8, 8, 8, 10, 6, 6, 8, 6, 6, 8, 10, 4, 6, 6, 6, 8, 8, 4, 6, 6, 6], [4, 10, 6, 6, 8, 6, 6, 10, 6, 8, 8, 10, 8, 8, 6, 8, 6, 6, 8, 6, 10, 6, 4, 6, 6, 8, 6, 6, 4, 6, 4], [10, 10, 6, 6, 8, 8, 8, 10, 8, 6, 8, 6, 6, 8, 6, 10, 4, 6, 6, 6, 8, 8, 6, 6, 6, 6, 4, 6, 6, 4, 4], [10, 6, 6, 8, 6, 10, 8, 8, 10, 8, 6, 6, 8, 6, 6, 6, 8, 6, 10, 6, 8, 8, 6, 6, 4, 6, 6, 6, 4, 4, 4], [10, 6, 8, 6, 6, 10, 8, 10, 8, 8, 8, 6, 8, 6, 10, 6, 6, 6, 8, 8, 6, 6, 6, 6, 6, 6, 6, 4, 4, 4, 4], [10, 10, 6, 6, 8, 8, 8, 10, 8, 6, 8, 6, 6, 8, 6, 6, 6, 8, 6, 10, 4, 6, 6, 8, 6, 6, 6, 6, 4, 4, 4], [10, 6, 6, 8, 6, 4, 6, 10, 8, 8, 10, 8, 6, 8, 6, 6, 8, 6, 10, 4, 6, 6, 8, 8, 6, 6, 6, 6, 6, 4, 4], [10, 4, 6, 6, 8, 4, 6, 10, 6, 8, 8, 10, 6, 8, 6, 8, 6, 8, 10, 4, 6, 6, 6, 8, 8, 6, 6, 6, 6, 6, 4]]\n",
      "[[0, 1, 2, 3], [0, 1, 2, 3, 4, 5, 6, 7, 8, 9], [0, 1, 2, 9], [0, 1, 2, 9, 6, 3], [0, 1, 8, 5, 2, 3], [0, 1, 8, 5, 2, 9], [0, 1, 8, 5, 2, 9, 6, 3], [0, 1, 8, 5, 6, 3], [0, 1, 8, 9], [0, 1, 8, 9, 6, 3], [0, 1, 8, 9, 6, 7, 4, 5, 2, 3], [0, 7, 4, 1, 2, 3], [0, 7, 4, 1, 2, 9], [0, 7, 4, 1, 2, 9, 6, 3], [0, 7, 4, 1, 8, 5, 2, 3], [0, 7, 4, 1, 8, 5, 2, 9], [0, 7, 4, 1, 8, 5, 2, 9, 6, 3], [0, 7, 4, 1, 8, 5, 6, 3], [0, 7, 4, 1, 8, 9], [0, 7, 4, 1, 8, 9, 6, 3], [0, 7, 4, 5, 2, 3], [0, 7, 4, 5, 2, 9], [0, 7, 4, 5, 2, 9, 6, 3], [0, 7, 4, 5, 6, 3], [0, 7, 8, 5, 2, 3], [0, 7, 8, 5, 2, 9], [0, 7, 8, 5, 2, 9, 6, 3], [0, 7, 8, 5, 6, 3], [0, 7, 8, 5, 6, 3, 4, 1, 2, 9], [0, 7, 8, 9], [0, 7, 8, 9, 6, 3]]\n"
     ]
    }
   ]
  },
  {
   "cell_type": "code",
   "source": [
    "GCD_global = []\n",
    "GCD_local = []\n",
    "\n",
    "for lc in lengths_circles:\n",
    "  GCD_local = lc[0]\n",
    "  for elem in lc:\n",
    "    GCD_local = gcd(elem, GCD_local)\n",
    "  GCD_global.append(GCD_local)"
   ],
   "metadata": {
    "id": "47rU18vyUWtO"
   },
   "execution_count": 89,
   "outputs": []
  },
  {
   "cell_type": "code",
   "source": [
    "for i,n in enumerate(DG.nodes):\n",
    "  print(f\"The node {n} has period equal to {GCD_global[i]}\")"
   ],
   "metadata": {
    "colab": {
     "base_uri": "https://localhost:8080/"
    },
    "outputId": "bcc7d66b-b050-4933-cb6e-c96459bc163f",
    "id": "0tPQ32GyUWtO"
   },
   "execution_count": 90,
   "outputs": [
    {
     "name": "stdout",
     "output_type": "stream",
     "text": [
      "The node 0 has period equal to 2\n",
      "The node 1 has period equal to 2\n",
      "The node 2 has period equal to 2\n",
      "The node 3 has period equal to 2\n",
      "The node 4 has period equal to 2\n",
      "The node 5 has period equal to 2\n",
      "The node 6 has period equal to 2\n",
      "The node 7 has period equal to 2\n",
      "The node 8 has period equal to 2\n",
      "The node 9 has period equal to 2\n"
     ]
    }
   ]
  },
  {
   "cell_type": "markdown",
   "metadata": {
    "id": "X61h-KKTfTf8"
   },
   "source": [
    "## Spanning subgraphs\n",
    "A spanning subgraph is a subgraph that contains all the nodes of the original graph. Of particular interest are spanning trees, i.e., spanning subgraphs that are trees. Spanning trees find many applications, e.g., traveling salesman problem, and search algorithms.\n",
    "\n",
    "We can generate all the spanning subgraphs of a given graph as follows."
   ]
  },
  {
   "cell_type": "code",
   "execution_count": 91,
   "metadata": {
    "colab": {
     "base_uri": "https://localhost:8080/",
     "height": 336
    },
    "id": "D2Ixr_NgfTf8",
    "outputId": "13d20ca6-582e-413f-8f85-351c869178de"
   },
   "outputs": [
    {
     "name": "stdout",
     "output_type": "stream",
     "text": [
      "Number of subgraphs: 64\n"
     ]
    },
    {
     "data": {
      "text/plain": "<Figure size 640x480 with 1 Axes>",
      "image/png": "[encoded data removed]"
     },
     "metadata": {},
     "output_type": "display_data"
    }
   ],
   "source": [
    "import networkx as nx\n",
    "import matplotlib.pyplot as plt\n",
    "%matplotlib inline\n",
    "\n",
    "# As an example, construct a graph\n",
    "G = nx.Graph()\n",
    "nx.add_cycle(G, range(4))\n",
    "G.add_edges_from([(0,2), (1,3)]) \n",
    "nx.draw_circular(G, with_labels=True)\n",
    "\n",
    "# Define a function for computing the power set of a given set\n",
    "from itertools import chain, combinations\n",
    "\n",
    "def powerset(iterable):\n",
    "    \"powerset([1,2,3]) --> () (1,) (2,) (3,) (1,2) (1,3) (2,3) (1,2,3)\" # the set of all the subsets\n",
    "    s = list(iterable)\n",
    "    return chain.from_iterable(combinations(s, r) for r in range(len(s)+1))\n",
    "\n",
    "# Use 'powerset' to compute all subgraphs of G\n",
    "subgraphs = list()\n",
    "for edge_set in powerset(G.edges):\n",
    "    H = nx.Graph()\n",
    "    H.add_nodes_from(G.nodes)\n",
    "    H.add_edges_from(edge_set)\n",
    "    subgraphs.append(H)\n",
    "print(\"Number of subgraphs:\", len(subgraphs))"
   ]
  },
  {
   "cell_type": "markdown",
   "metadata": {
    "id": "Fc-9geNPfTf9"
   },
   "source": [
    "We now compute all spanning subtrees of G. To this end, exploit the following characterization:\n",
    "\n",
    "**Theorem**: an undirected graph T is a tree if and only if it is connected and E=N-1, where E is the number of (undirected) edges and N is the number of nodes"
   ]
  },
  {
   "cell_type": "code",
   "execution_count": 92,
   "metadata": {
    "colab": {
     "base_uri": "https://localhost:8080/"
    },
    "id": "b5K_6-exfTf9",
    "outputId": "944c14ac-bd3c-4cc2-a5e1-b4f262266a74"
   },
   "outputs": [
    {
     "name": "stdout",
     "output_type": "stream",
     "text": [
      "Number of spanning trees: 16\n"
     ]
    }
   ],
   "source": [
    "trees = list()\n",
    "for H in subgraphs:\n",
    "    if H.number_of_edges()==H.number_of_nodes()-1 and nx.is_connected(H):\n",
    "        trees.append(H)\n",
    "\n",
    "print(\"Number of spanning trees:\", len(trees))"
   ]
  },
  {
   "cell_type": "markdown",
   "metadata": {
    "id": "H6pB1YfXfTf9"
   },
   "source": [
    "Let us plot some of the spanning trees"
   ]
  },
  {
   "cell_type": "code",
   "execution_count": 93,
   "metadata": {
    "colab": {
     "base_uri": "https://localhost:8080/",
     "height": 248
    },
    "id": "4Je6SimefTf9",
    "outputId": "590c360b-2114-480d-87e4-adb54ba5d097"
   },
   "outputs": [
    {
     "data": {
      "text/plain": "<Figure size 640x480 with 4 Axes>",
      "image/png": "[encoded data removed]"
     },
     "metadata": {},
     "output_type": "display_data"
    }
   ],
   "source": [
    "plt.subplot(141)\n",
    "nx.draw_circular(trees[1], with_labels=True)\n",
    "\n",
    "plt.subplot(142)\n",
    "nx.draw_circular(trees[5], with_labels=True)\n",
    "\n",
    "plt.subplot(143)\n",
    "nx.draw_circular(trees[9], with_labels=True)\n",
    "\n",
    "plt.subplot(144)\n",
    "nx.draw_circular(trees[15], with_labels=True)"
   ]
  },
  {
   "cell_type": "markdown",
   "metadata": {
    "id": "xtdatAIifTf_"
   },
   "source": [
    "#### Solutions"
   ]
  },
  {
   "cell_type": "code",
   "execution_count": 94,
   "metadata": {
    "colab": {
     "base_uri": "https://localhost:8080/"
    },
    "id": "4e4ba3zFfTf_",
    "outputId": "104850fb-86b7-4058-84d7-ca8226419a6c"
   },
   "outputs": [
    {
     "name": "stdout",
     "output_type": "stream",
     "text": [
      "[(0, 2), (1, 2), (2, 2), (3, 2), (4, 2), (5, 2), (6, 2), (7, 2), (8, 2), (9, 2)]\n"
     ]
    }
   ],
   "source": [
    "# EXERCISE 1\n",
    "\n",
    "cycles = tuple(nx.simple_cycles(DG))\n",
    "period = []\n",
    "\n",
    "for n in DG.nodes:\n",
    "    # find cycles of the graph that contain node n, and append to a list the length of each cycle\n",
    "    len_cycles_n = []\n",
    "    for cycle in cycles:\n",
    "        if n in cycle:\n",
    "            len_cycles_n.append(len(cycle))\n",
    "    # find greatest common divisor of cycles that involve n, which is the period of node n\n",
    "    GCD = len_cycles_n[0]\n",
    "    for l in len_cycles_n:\n",
    "        GCD = gcd(GCD,l)\n",
    "    period.append((n,GCD))\n",
    "        \n",
    "print(period)"
   ]
  },
  {
   "cell_type": "code",
   "execution_count": 95,
   "metadata": {
    "colab": {
     "base_uri": "https://localhost:8080/"
    },
    "id": "ioDg_vm4fTf_",
    "outputId": "2440d5b0-c75a-40e0-a5c8-dc8f7a75e760"
   },
   "outputs": [
    {
     "name": "stdout",
     "output_type": "stream",
     "text": [
      "2\n"
     ]
    }
   ],
   "source": [
    "# EXERCISE 2\n",
    "\n",
    "cycles = tuple(nx.simple_cycles(DG))\n",
    "\n",
    "# since the graph is strongly connected, all the nodes have same period\n",
    "# we then compute period of node 1\n",
    "n=1\n",
    "len_cycles = []\n",
    "for cycle in cycles:\n",
    "    if n in cycle:\n",
    "        len_cycles.append(len(cycle))\n",
    "if len_cycles != []:\n",
    "    GCD = len_cycles[0]\n",
    "    for l in len_cycles:\n",
    "        GCD = gcd(GCD,l)\n",
    "    period = GCD\n",
    "else:\n",
    "    period = GCD\n",
    "        \n",
    "print(period)"
   ]
  }
 ],
 "metadata": {
  "kernelspec": {
   "display_name": "Python 3 (ipykernel)",
   "language": "python",
   "name": "python3"
  },
  "language_info": {
   "codemirror_mode": {
    "name": "ipython",
    "version": 3
   },
   "file_extension": ".py",
   "mimetype": "text/x-python",
   "name": "python",
   "nbconvert_exporter": "python",
   "pygments_lexer": "ipython3",
   "version": "3.9.7"
  },
  "colab": {
   "provenance": [],
   "collapsed_sections": [
    "ti9p_KJKfTft"
   ]
  }
 },
 "nbformat": 4,
 "nbformat_minor": 0
}
